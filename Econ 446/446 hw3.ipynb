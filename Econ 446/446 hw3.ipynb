{
 "cells": [
  {
   "cell_type": "markdown",
   "metadata": {},
   "source": [
    "Connect to Ganache"
   ]
  },
  {
   "cell_type": "code",
   "execution_count": 1,
   "metadata": {},
   "outputs": [],
   "source": [
    "from web3 import Web3"
   ]
  },
  {
   "cell_type": "code",
   "execution_count": 25,
   "metadata": {},
   "outputs": [],
   "source": [
    "node_provider='HTTP://127.0.0.1:7545'\n",
    "PRIVATE_KEY_1='cf455619be9a759e70a8e22b86c66067b238124b141285a7d9ef009519f29bf5'\n",
    "PRIVATE_KEY_2='54e804e87f10072aa45ff5351d56a27234f5d01bb5b8497b9f64ecd3b4eefccd'\n",
    "ADDRESS_1='0x0A074Dd3aFf9af0f159E2db96D45ec4D1D9d166B'\n",
    "ADDRESS_2='0x00555aeDC617E763b366b02689Ffa51dc3566e27'"
   ]
  },
  {
   "cell_type": "code",
   "execution_count": 26,
   "metadata": {},
   "outputs": [],
   "source": [
    "web3_connection=Web3(Web3.HTTPProvider(node_provider))"
   ]
  },
  {
   "cell_type": "code",
   "execution_count": 27,
   "metadata": {},
   "outputs": [
    {
     "data": {
      "text/plain": [
       "True"
      ]
     },
     "execution_count": 27,
     "metadata": {},
     "output_type": "execute_result"
    }
   ],
   "source": [
    "web3_connection.isConnected()"
   ]
  },
  {
   "cell_type": "markdown",
   "metadata": {},
   "source": [
    "Deploy Smart Contract"
   ]
  },
  {
   "cell_type": "code",
   "execution_count": 28,
   "metadata": {},
   "outputs": [],
   "source": [
    "contract_abi='[{\"inputs\":[{\"internalType\":\"uint256\",\"name\":\"_threshold\",\"type\":\"uint256\"},{\"internalType\":\"address payable\",\"name\":\"_insurer\",\"type\":\"address\"}],\"stateMutability\":\"payable\",\"type\":\"constructor\"},{\"inputs\":[{\"internalType\":\"address payable\",\"name\":\"_insured\",\"type\":\"address\"}],\"name\":\"buy_insurance\",\"outputs\":[],\"stateMutability\":\"payable\",\"type\":\"function\"},{\"inputs\":[],\"name\":\"currState\",\"outputs\":[{\"internalType\":\"enum inflation_insurance.State\",\"name\":\"\",\"type\":\"uint8\"}],\"stateMutability\":\"view\",\"type\":\"function\"},{\"inputs\":[{\"internalType\":\"uint256\",\"name\":\"_inflationNumber\",\"type\":\"uint256\"}],\"name\":\"inflation_reading\",\"outputs\":[{\"internalType\":\"uint256\",\"name\":\"\",\"type\":\"uint256\"}],\"stateMutability\":\"payable\",\"type\":\"function\"}]'\n",
    "contract_bytecode= '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'"
   ]
  },
  {
   "cell_type": "code",
   "execution_count": 29,
   "metadata": {},
   "outputs": [],
   "source": [
    "import json\n",
    "contract_abi=json.loads(contract_abi)"
   ]
  },
  {
   "cell_type": "code",
   "execution_count": 30,
   "metadata": {},
   "outputs": [
    {
     "data": {
      "text/plain": [
       "[{'inputs': [{'internalType': 'uint256',\n",
       "    'name': '_threshold',\n",
       "    'type': 'uint256'},\n",
       "   {'internalType': 'address payable', 'name': '_insurer', 'type': 'address'}],\n",
       "  'stateMutability': 'payable',\n",
       "  'type': 'constructor'},\n",
       " {'inputs': [{'internalType': 'address payable',\n",
       "    'name': '_insured',\n",
       "    'type': 'address'}],\n",
       "  'name': 'buy_insurance',\n",
       "  'outputs': [],\n",
       "  'stateMutability': 'payable',\n",
       "  'type': 'function'},\n",
       " {'inputs': [],\n",
       "  'name': 'currState',\n",
       "  'outputs': [{'internalType': 'enum inflation_insurance.State',\n",
       "    'name': '',\n",
       "    'type': 'uint8'}],\n",
       "  'stateMutability': 'view',\n",
       "  'type': 'function'},\n",
       " {'inputs': [{'internalType': 'uint256',\n",
       "    'name': '_inflationNumber',\n",
       "    'type': 'uint256'}],\n",
       "  'name': 'inflation_reading',\n",
       "  'outputs': [{'internalType': 'uint256', 'name': '', 'type': 'uint256'}],\n",
       "  'stateMutability': 'payable',\n",
       "  'type': 'function'}]"
      ]
     },
     "execution_count": 30,
     "metadata": {},
     "output_type": "execute_result"
    }
   ],
   "source": [
    "contract_abi"
   ]
  },
  {
   "cell_type": "code",
   "execution_count": 31,
   "metadata": {},
   "outputs": [],
   "source": [
    "def get_nonce(ETH_address):\n",
    "    return(web3_connection.eth.get_transaction_count(ETH_address))\n",
    "\n",
    "def deploy_contract(threshold,amount_ETH,owner,signature):\n",
    "    inflation_insurance=web3_connection.eth.contract(abi=contract_abi,bytecode=contract_bytecode)\n",
    "    transaction_body={\n",
    "        'nonce':get_nonce(owner),\n",
    "        'value':int(web3_connection.toWei(amount_ETH,'ether')),\n",
    "        'gasPrice':web3_connection.eth.gas_price\n",
    "    }\n",
    "    deployment=inflation_insurance.constructor(threshold,owner).buildTransaction(transaction_body)\n",
    "    signed_transaction=web3_connection.eth.account.sign_transaction(deployment,signature)\n",
    "    result=web3_connection.eth.send_raw_transaction(signed_transaction.rawTransaction)\n",
    "    return(result)"
   ]
  },
  {
   "cell_type": "code",
   "execution_count": 32,
   "metadata": {},
   "outputs": [
    {
     "data": {
      "text/plain": [
       "HexBytes('0x4e9ca4c260d536faf1087557d1b4591d05693fed92fac015ce4e3f2d1a8e7445')"
      ]
     },
     "execution_count": 32,
     "metadata": {},
     "output_type": "execute_result"
    }
   ],
   "source": [
    "deploy_contract(8,1,ADDRESS_1,PRIVATE_KEY_1)"
   ]
  },
  {
   "cell_type": "code",
   "execution_count": 33,
   "metadata": {},
   "outputs": [],
   "source": [
    "contract_address='0xdd15f8702986aF2260503Bf49961753e8bf8d03d'"
   ]
  },
  {
   "cell_type": "code",
   "execution_count": 34,
   "metadata": {},
   "outputs": [],
   "source": [
    "def buy_policy(player,amount_ETH,signature):\n",
    "    contract=web3_connection.eth.contract(address=contract_address,abi=contract_abi)\n",
    "    transaction_body={\n",
    "        'nonce':get_nonce(player),\n",
    "        'value':int(web3_connection.toWei(amount_ETH,'ether')),\n",
    "        'gasPrice':web3_connection.eth.gas_price\n",
    "    } \n",
    "    function_call=contract.functions.buy_insurance(player).buildTransaction(transaction_body)\n",
    "    signed_transaction=web3_connection.eth.account.sign_transaction(function_call,signature)\n",
    "    result=web3_connection.eth.send_raw_transaction(signed_transaction.rawTransaction)\n",
    "    return(result)                                     "
   ]
  },
  {
   "cell_type": "code",
   "execution_count": 35,
   "metadata": {},
   "outputs": [
    {
     "data": {
      "text/plain": [
       "HexBytes('0xc36ce2634f74e4c7bf0bbbffae37ec22d009f06ee6eefd3076923f98523e9160')"
      ]
     },
     "execution_count": 35,
     "metadata": {},
     "output_type": "execute_result"
    }
   ],
   "source": [
    "buy_policy(ADDRESS_2,.5,PRIVATE_KEY_2)"
   ]
  },
  {
   "cell_type": "code",
   "execution_count": 23,
   "metadata": {},
   "outputs": [],
   "source": [
    "def inflation_reading(player,inflation,signature):\n",
    "    contract=web3_connection.eth.contract(address=contract_address,abi=contract_abi)\n",
    "    transaction_body={\n",
    "        'nonce':get_nonce(player),\n",
    "        'gasPrice':web3_connection.eth.gas_price\n",
    "    } \n",
    "    function_call=contract.functions.inflation_reading(inflation).buildTransaction(transaction_body)\n",
    "    signed_transaction=web3_connection.eth.account.sign_transaction(function_call,signature)\n",
    "    result=web3_connection.eth.send_raw_transaction(signed_transaction.rawTransaction)\n",
    "    return(result)                                     "
   ]
  },
  {
   "cell_type": "code",
   "execution_count": 24,
   "metadata": {},
   "outputs": [
    {
     "data": {
      "text/plain": [
       "HexBytes('0x0ecd4f9daf12ce183e63bcfa370ebf8d8b66e240586fd1ffbc464faa63f1b84a')"
      ]
     },
     "execution_count": 24,
     "metadata": {},
     "output_type": "execute_result"
    }
   ],
   "source": [
    "inflation_reading(ADDRESS_1,9,PRIVATE_KEY_1)"
   ]
  },
  {
   "cell_type": "code",
   "execution_count": null,
   "metadata": {},
   "outputs": [],
   "source": []
  }
 ],
 "metadata": {
  "kernelspec": {
   "display_name": "Python 3",
   "language": "python",
   "name": "python3"
  },
  "language_info": {
   "codemirror_mode": {
    "name": "ipython",
    "version": 3
   },
   "file_extension": ".py",
   "mimetype": "text/x-python",
   "name": "python",
   "nbconvert_exporter": "python",
   "pygments_lexer": "ipython3",
   "version": "3.8.3"
  }
 },
 "nbformat": 4,
 "nbformat_minor": 4
}
