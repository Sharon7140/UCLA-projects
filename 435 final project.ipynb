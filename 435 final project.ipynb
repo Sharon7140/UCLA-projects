{
 "cells": [
  {
   "cell_type": "code",
   "execution_count": 5,
   "metadata": {},
   "outputs": [
    {
     "name": "stdout",
     "output_type": "stream",
     "text": [
      "ok\n"
     ]
    }
   ],
   "source": [
    "import pandas\n",
    "import csv, sqlite3\n",
    "\n",
    "conn= sqlite3.connect(\"BlackFriday.db\")\n",
    "df = pandas.read_csv('BlackFriday.csv')\n",
    "df.to_sql('BlackFriday', conn, if_exists='append', index=False)\n",
    "conn.close()\n",
    "print('ok')\n"
   ]
  },
  {
   "cell_type": "code",
   "execution_count": 8,
   "metadata": {},
   "outputs": [
    {
     "name": "stdout",
     "output_type": "stream",
     "text": [
      "Total Sales: [(15287438226,)]\n",
      "Get Total Sales\n"
     ]
    }
   ],
   "source": [
    "#Part I: Overall Sales \n",
    "#Calculate total sales\n",
    "conn = sqlite3.connect(\"BlackFriday.db\")\n",
    "cur = conn.cursor()\n",
    "sql1 = \"SELECT SUM(Purchase) AS TotalSales FROM BlackFriday;\"\n",
    "cur.execute(sql1)\n",
    "print(\"Total Sales:\",cur.fetchall())\n",
    "cur.close()\n",
    "conn.close()\n",
    "print('Get Total Sales')\n"
   ]
  },
  {
   "cell_type": "code",
   "execution_count": 9,
   "metadata": {},
   "outputs": [
    {
     "name": "stdout",
     "output_type": "stream",
     "text": [
      "Number of Customer 5891\n",
      "Unit price per Customer 2595049\n",
      "Get Unit price per customer\n"
     ]
    }
   ],
   "source": [
    "#Unit price per customer\n",
    "conn = sqlite3.connect(\"BlackFriday.db\")\n",
    "c = conn.cursor()\n",
    "sql2 = \"SELECT COUNT(DISTINCT User_ID) AS NumOfCustomer, SUM(Purchase)/COUNT(DISTINCT User_ID) AS UnitPricePerCustomer FROM BlackFriday;\"\n",
    "cur = c.execute(sql2)\n",
    "for row in cur:\n",
    "    print(\"Number of Customer:\",row[0])\n",
    "    print(\"Unit price per Customer:\",row[1])\n",
    "cur.close()\n",
    "conn.close()\n",
    "print('Get Unit price per customer')\n"
   ]
  },
  {
   "cell_type": "code",
   "execution_count": 11,
   "metadata": {},
   "outputs": [
    {
     "name": "stdout",
     "output_type": "stream",
     "text": [
      "Number of Goods Sold 1650204\n",
      "Average price per Goods Sold 9263\n",
      "Get Average price per goods sold\n"
     ]
    }
   ],
   "source": [
    "#Average price per goods sold\n",
    "conn = sqlite3.connect(\"BlackFriday.db\")\n",
    "c = conn.cursor()\n",
    "sql3 = \"SELECT COUNT(*) AS NumOfGoods, SUM(Purchase)/COUNT(*) AS UnitPricePerGoods FROM BlackFriday;\"\n",
    "cur = c.execute(sql3)\n",
    "for row in cur:\n",
    "    print(\"Number of Goods Sold:\",row[0])\n",
    "    print(\"Average price per Goods Sold:\",row[1])\n",
    "cur.close()\n",
    "conn.close()\n",
    "print('Get Average price per goods sold')"
   ]
  },
  {
   "cell_type": "code",
   "execution_count": 21,
   "metadata": {},
   "outputs": [
    {
     "name": "stdout",
     "output_type": "stream",
     "text": [
      "Product_ID P00025442\n",
      "Sales_Volume 4845\n",
      "Sales 83985498 \n",
      "\n",
      "Product_ID P00110742\n",
      "Sales_Volume 4836\n",
      "Sales 80166927 \n",
      "\n",
      "Product_ID P00255842\n",
      "Sales_Volume 4149\n",
      "Sales 75506889 \n",
      "\n",
      "Product_ID P00059442\n",
      "Sales_Volume 4218\n",
      "Sales 73015029 \n",
      "\n",
      "Product_ID P00184942\n",
      "Sales_Volume 4320\n",
      "Sales 73004661 \n",
      "\n",
      "Product_ID P00112142\n",
      "Sales_Volume 4686\n",
      "Sales 72648018 \n",
      "\n",
      "Product_ID P00110942\n",
      "Sales_Volume 4080\n",
      "Sales 70918692 \n",
      "\n",
      "Product_ID P00237542\n",
      "Sales_Volume 4182\n",
      "Sales 70276728 \n",
      "\n",
      "Product_ID P00057642\n",
      "Sales_Volume 4410\n",
      "Sales 69308340 \n",
      "\n",
      "Product_ID P00010742\n",
      "Sales_Volume 4050\n",
      "Sales 66492459 \n",
      "\n",
      "Product_ID P00110842\n",
      "Sales_Volume 3843\n",
      "Sales 64172166 \n",
      "\n",
      "Product_ID P00046742\n",
      "Sales_Volume 4314\n",
      "Sales 63458646 \n",
      "\n",
      "Product_ID P00080342\n",
      "Sales_Volume 3609\n",
      "Sales 63390918 \n",
      "\n",
      "Product_ID P00028842\n",
      "Sales_Volume 3591\n",
      "Sales 63138210 \n",
      "\n",
      "Product_ID P00148642\n",
      "Sales_Volume 3612\n",
      "Sales 62448861 \n",
      "\n",
      "Product_ID P00145042\n",
      "Sales_Volume 4218\n",
      "Sales 61234026 \n",
      "\n",
      "Product_ID P00052842\n",
      "Sales_Volume 2946\n",
      "Sales 59335797 \n",
      "\n",
      "Product_ID P00114942\n",
      "Sales_Volume 3534\n",
      "Sales 57608730 \n",
      "\n",
      "Product_ID P00112542\n",
      "Sales_Volume 3393\n",
      "Sales 54447111 \n",
      "\n",
      "Product_ID P00005042\n",
      "Sales_Volume 2907\n",
      "Sales 53193681 \n",
      "\n",
      "Get Top 20 best sales \n"
     ]
    }
   ],
   "source": [
    "#Top 20 best sales \n",
    "conn = sqlite3.connect(\"BlackFriday.db\")\n",
    "c = conn.cursor()\n",
    "sql4 = \"SELECT Product_ID, COUNT(Product_ID), SUM(Purchase) FROM BlackFriday GROUP BY Product_ID ORDER BY SUM(Purchase) desc LIMIT 20;\"\n",
    "cur = c.execute(sql4)\n",
    "for row in cur:\n",
    "    print(\"Product_ID:\",row[0])\n",
    "    print(\"Sales_Volume:\",row[1])\n",
    "    print(\"Sales:\",row[2],'\\n')\n",
    "cur.close()\n",
    "conn.close()\n",
    "print('Get Top 20 best sales ')"
   ]
  },
  {
   "cell_type": "code",
   "execution_count": 25,
   "metadata": {},
   "outputs": [
    {
     "name": "stdout",
     "output_type": "stream",
     "text": [
      "Gener F\n",
      "Number 1666\n",
      "Averge Consumption 8734.565765155476 \n",
      "\n",
      "Gener M\n",
      "Number 4225\n",
      "Averge Consumption 9437.526040472265 \n",
      "\n",
      "Get comsumption difference between gender\n"
     ]
    }
   ],
   "source": [
    "#Part II: Target Customer Profile\n",
    "#comsumption difference between gender\n",
    "conn = sqlite3.connect(\"BlackFriday.db\")\n",
    "c = conn.cursor()\n",
    "sql5 = \"SELECT Gender,count(distinct User_ID),avg(Purchase) FROM BlackFriday GROUP BY Gender;\"\n",
    "cur = c.execute(sql5)\n",
    "for row in cur:\n",
    "    print(\"Gener:\",row[0])\n",
    "    print(\"Number:\",row[1])\n",
    "    print(\"Averge Consumption:\",row[2],\"\\n\")\n",
    "cur.close()\n",
    "conn.close()\n",
    "print('Get comsumption difference between gender')"
   ]
  },
  {
   "cell_type": "code",
   "execution_count": 29,
   "metadata": {},
   "outputs": [
    {
     "name": "stdout",
     "output_type": "stream",
     "text": [
      "Product Type: 1\n",
      "Sales Volume: 346641 \n",
      "\n",
      "Product Type: 5\n",
      "Sales Volume: 326916 \n",
      "\n",
      "Product Type: 8\n",
      "Sales Volume: 241101 \n",
      "\n",
      "Product Type: 11\n",
      "Sales Volume: 58644 \n",
      "\n",
      "Product Type: 2\n",
      "Sales Volume: 54618 \n",
      "\n",
      "Get Top 5 Best sales product type among males\n"
     ]
    }
   ],
   "source": [
    "#Top 5 Best sales product type among Males\n",
    "conn = sqlite3.connect(\"BlackFriday.db\")\n",
    "c = conn.cursor()\n",
    "sql6 = \"SELECT Product_Category_1,COUNT(*) AS Sales_Volume FROM BlackFriday WHERE Gender = 'M' GROUP BY Product_Category_1 ORDER BY COUNT(*) DESC LIMIT 5;\"\n",
    "cur = c.execute(sql6)\n",
    "for row in cur:\n",
    "    print(\"Product Type:\",row[0])\n",
    "    print(\"Sales Volume:\",row[1],\"\\n\")\n",
    "cur.close()\n",
    "conn.close()\n",
    "print('Get Top 5 Best sales product type among males')"
   ]
  },
  {
   "cell_type": "code",
   "execution_count": 30,
   "metadata": {},
   "outputs": [
    {
     "name": "stdout",
     "output_type": "stream",
     "text": [
      "Product Type: 5\n",
      "Sales Volume: 125883 \n",
      "\n",
      "Product Type: 8\n",
      "Sales Volume: 100674 \n",
      "\n",
      "Product Type: 1\n",
      "Sales Volume: 74493 \n",
      "\n",
      "Product Type: 3\n",
      "Sales Volume: 18018 \n",
      "\n",
      "Product Type: 2\n",
      "Sales Volume: 16974 \n",
      "\n",
      "Get Top 5 Best sales product type among females\n"
     ]
    }
   ],
   "source": [
    "#Top 5 Best sales product type among females\n",
    "conn = sqlite3.connect(\"BlackFriday.db\")\n",
    "c = conn.cursor()\n",
    "sql7 = \"SELECT Product_Category_1,COUNT(*) AS Sales_Volume FROM BlackFriday WHERE Gender = 'F' GROUP BY Product_Category_1 ORDER BY COUNT(*) DESC LIMIT 5;\"\n",
    "cur = c.execute(sql7)\n",
    "for row in cur:\n",
    "    print(\"Product Type:\",row[0])\n",
    "    print(\"Sales Volume:\",row[1],\"\\n\")\n",
    "cur.close()\n",
    "conn.close()\n",
    "print('Get Top 5 Best sales product type among females')"
   ]
  },
  {
   "cell_type": "code",
   "execution_count": 31,
   "metadata": {},
   "outputs": [
    {
     "name": "stdout",
     "output_type": "stream",
     "text": [
      "Age 0-17\n",
      "Number 218\n",
      "Averge Consumption 8933.464640444974 \n",
      "\n",
      "Age 18-25\n",
      "Number 1069\n",
      "Averge Consumption 9169.663606261289 \n",
      "\n",
      "Age 26-35\n",
      "Number 2053\n",
      "Averge Consumption 9252.690632869888 \n",
      "\n",
      "Age 36-45\n",
      "Number 1167\n",
      "Averge Consumption 9331.350694917874 \n",
      "\n",
      "Age 46-50\n",
      "Number 531\n",
      "Averge Consumption 9208.625697468327 \n",
      "\n",
      "Age 51-55\n",
      "Number 481\n",
      "Averge Consumption 9534.808030960236 \n",
      "\n",
      "Age 55+\n",
      "Number 372\n",
      "Averge Consumption 9336.280459449405 \n",
      "\n",
      "Get comsumption difference among age\n"
     ]
    }
   ],
   "source": [
    "#comsumption distribution of different ages\n",
    "conn = sqlite3.connect(\"BlackFriday.db\")\n",
    "c = conn.cursor()\n",
    "sql8 = \"SELECT Age,count(distinct User_ID),avg(Purchase) FROM BlackFriday GROUP BY Age;\"\n",
    "cur = c.execute(sql8)\n",
    "for row in cur:\n",
    "    print(\"Age:\",row[0])\n",
    "    print(\"Number:\",row[1])\n",
    "    print(\"Averge Consumption:\",row[2],\"\\n\")\n",
    "cur.close()\n",
    "conn.close()\n",
    "print('Get comsumption difference among age')"
   ]
  },
  {
   "cell_type": "code",
   "execution_count": 38,
   "metadata": {},
   "outputs": [
    {
     "name": "stdout",
     "output_type": "stream",
     "text": [
      "Age: 0-17\n",
      "Total consumption of males: 277581615\n",
      "Total consumption of females: 127157934 \n",
      "\n",
      "Age: 18-25\n",
      "Total consumption of males: 2125118499\n",
      "Total consumption of females: 616427526 \n",
      "\n",
      "Age: 26-35\n",
      "Total consumption of males: 4766383035\n",
      "Total consumption of females: 1328928699 \n",
      "\n",
      "Age: 36-45\n",
      "Total consumption of males: 2349392763\n",
      "Total consumption of females: 730316889 \n",
      "\n",
      "Age: 46-50\n",
      "Total consumption of males: 912409617\n",
      "Total consumption of females: 350120592 \n",
      "\n",
      "Age: 51-55\n",
      "Total consumption of males: 832900941\n",
      "Total consumption of females: 268397991 \n",
      "\n",
      "Age: 55+\n",
      "Total consumption of males: 464953830\n",
      "Total consumption of females: 137348295 \n",
      "\n",
      "Get comsumption difference among age\n"
     ]
    }
   ],
   "source": [
    "#comsumption difference among age in terms of consumption amount\n",
    "conn = sqlite3.connect(\"BlackFriday.db\")\n",
    "c = conn.cursor()\n",
    "sql9 = \"SELECT Age,SUM(CASE WHEN Gender = 'M' THEN Purchase END), SUM(CASE WHEN Gender = 'F' THEN Purchase END) FROM BlackFriday GROUP BY Age;\"\n",
    "cur = c.execute(sql9)\n",
    "for row in cur:\n",
    "    print(\"Age:\",row[0])\n",
    "    print(\"Total consumption of males:\",row[1])\n",
    "    print(\"Total consumption of females:\",row[2],\"\\n\")\n",
    "cur.close()\n",
    "conn.close()\n",
    "print('Get comsumption difference among age')"
   ]
  },
  {
   "cell_type": "code",
   "execution_count": 35,
   "metadata": {},
   "outputs": [
    {
     "name": "stdout",
     "output_type": "stream",
     "text": [
      "Occupation: 4\n",
      "Total consumption amount: 1998733452 \n",
      "\n",
      "Occupation: 0\n",
      "Total consumption amount: 1906220874 \n",
      "\n",
      "Occupation: 7\n",
      "Total consumption amount: 1672114761 \n",
      "\n",
      "Occupation: 1\n",
      "Total consumption amount: 1273842432 \n",
      "\n",
      "Occupation: 17\n",
      "Total consumption amount: 1179844359 \n",
      "\n",
      "Occupation: 12\n",
      "Total consumption amount: 916348338 \n",
      "\n",
      "Occupation: 20\n",
      "Total consumption amount: 889711326 \n",
      "\n",
      "Occupation: 14\n",
      "Total consumption amount: 778364076 \n",
      "\n",
      "Occupation: 16\n",
      "Total consumption amount: 715040865 \n",
      "\n",
      "Occupation: 2\n",
      "Total consumption amount: 714085749 \n",
      "\n",
      "Occupation: 6\n",
      "Total consumption amount: 565250352 \n",
      "\n",
      "Occupation: 3\n",
      "Total consumption amount: 486006504 \n",
      "\n",
      "Occupation: 15\n",
      "Total consumption amount: 356880633 \n",
      "\n",
      "Occupation: 10\n",
      "Total consumption amount: 347533395 \n",
      "\n",
      "Occupation: 5\n",
      "Total consumption amount: 340949277 \n",
      "\n",
      "Occupation: 11\n",
      "Total consumption amount: 320254854 \n",
      "\n",
      "Occupation: 19\n",
      "Total consumption amount: 221101851 \n",
      "\n",
      "Occupation: 13\n",
      "Total consumption amount: 215758443 \n",
      "\n",
      "Occupation: 18\n",
      "Total consumption amount: 182164383 \n",
      "\n",
      "Occupation: 9\n",
      "Total consumption amount: 163020138 \n",
      "\n",
      "Get comsumption difference among occupations\n"
     ]
    }
   ],
   "source": [
    "#comsumption difference among occupations: Top 20 occupations that consume most\n",
    "conn = sqlite3.connect(\"BlackFriday.db\")\n",
    "c = conn.cursor()\n",
    "sql10 =\"SELECT Occupation, SUM(Purchase) FROM BlackFriday GROUP BY Occupation ORDER BY SUM(Purchase) desc LIMIT 20;\"\n",
    "cur = c.execute(sql10)\n",
    "for row in cur:\n",
    "    print(\"Occupation:\",row[0])\n",
    "    print(\"Total consumption amount:\",row[1],\"\\n\")\n",
    "cur.close()\n",
    "conn.close()\n",
    "print('Get comsumption difference among occupations')"
   ]
  },
  {
   "cell_type": "code",
   "execution_count": 39,
   "metadata": {},
   "outputs": [
    {
     "name": "stdout",
     "output_type": "stream",
     "text": [
      "City Category: A\n",
      "Total consumption of males: 3030425238\n",
      "Total consumption of females: 918989745 \n",
      "\n",
      "City Category: B\n",
      "Total consumption of males: 4865749791\n",
      "Total consumption of females: 1480851024 \n",
      "\n",
      "City Category: C\n",
      "Total consumption of males: 3832565271\n",
      "Total consumption of females: 1158857157 \n",
      "\n",
      "Get comsumption difference among cities\n"
     ]
    }
   ],
   "source": [
    "#comsumption difference among cities in terms of consumption amount\n",
    "conn = sqlite3.connect(\"BlackFriday.db\")\n",
    "c = conn.cursor()\n",
    "sql11 = \"SELECT City_Category,SUM(CASE WHEN Gender = 'M' THEN Purchase END), SUM(CASE WHEN Gender = 'F' THEN Purchase END) FROM BlackFriday GROUP BY City_Category;\"\n",
    "cur = c.execute(sql11)\n",
    "for row in cur:\n",
    "    print(\"City Category:\",row[0])\n",
    "    print(\"Total consumption of males:\",row[1])\n",
    "    print(\"Total consumption of females:\",row[2],\"\\n\")\n",
    "cur.close()\n",
    "conn.close()\n",
    "print('Get comsumption difference among cities')"
   ]
  },
  {
   "cell_type": "code",
   "execution_count": 42,
   "metadata": {},
   "outputs": [
    {
     "name": "stdout",
     "output_type": "stream",
     "text": [
      "City Category: 0\n",
      "Total consumption of males: 1608403080\n",
      "Total consumption of females: 440534607 \n",
      "\n",
      "City Category: 1\n",
      "Total consumption of males: 4028189709\n",
      "Total consumption of females: 1350427890 \n",
      "\n",
      "City Category: 2\n",
      "Total consumption of males: 2209499061\n",
      "Total consumption of females: 638022732 \n",
      "\n",
      "City Category: 3\n",
      "Total consumption of males: 2015086374\n",
      "Total consumption of females: 639621603 \n",
      "\n",
      "City Category: 4+\n",
      "Total consumption of males: 1867562076\n",
      "Total consumption of females: 490091094 \n",
      "\n",
      "Get comsumption difference among people with different Stay_In_Current_City_Years\n"
     ]
    }
   ],
   "source": [
    "#comsumption difference among people with different Stay_In_Current_City_Years\n",
    "conn = sqlite3.connect(\"BlackFriday.db\")\n",
    "c = conn.cursor()\n",
    "sql12 = \"SELECT Stay_In_Current_City_Years,SUM(CASE WHEN Gender = 'M' THEN Purchase END), SUM(CASE WHEN Gender = 'F' THEN Purchase END) FROM BlackFriday GROUP BY Stay_In_Current_City_Years;\"\n",
    "cur = c.execute(sql12)\n",
    "for row in cur:\n",
    "    print(\"City Category:\",row[0])\n",
    "    print(\"Total consumption of males:\",row[1])\n",
    "    print(\"Total consumption of females:\",row[2],\"\\n\")\n",
    "cur.close()\n",
    "conn.close()\n",
    "print('Get comsumption difference among people with different Stay_In_Current_City_Years')"
   ]
  },
  {
   "cell_type": "code",
   "execution_count": 41,
   "metadata": {},
   "outputs": [
    {
     "name": "stdout",
     "output_type": "stream",
     "text": [
      "City Category: 1\n",
      "Number of customers: 2086\n",
      "Average consumption: 9250.145923300364 \n",
      "\n",
      "City Category: 2\n",
      "Number of customers: 1145\n",
      "Average consumption: 9320.429810090536 \n",
      "\n",
      "City Category: 3\n",
      "Number of customers: 979\n",
      "Average consumption: 9286.904119221284 \n",
      "\n",
      "City Category: 4+\n",
      "Number of customers: 909\n",
      "Average consumption: 9275.59887165687 \n",
      "\n",
      "City Category: 0\n",
      "Number of customers: 772\n",
      "Average consumption: 9180.075122987177 \n",
      "\n",
      "Get comsumption difference among people with different staying time\n"
     ]
    }
   ],
   "source": [
    "#comsumption difference among people with different Stay_In_Current_City_Years\n",
    "conn = sqlite3.connect(\"BlackFriday.db\")\n",
    "c = conn.cursor()\n",
    "sql13 = \"SELECT Stay_In_Current_City_Years,COUNT(DISTINCT User_ID), avg(Purchase) FROM BlackFriday GROUP BY Stay_In_Current_City_Years ORDER BY COUNT(DISTINCT User_ID) desc;\"\n",
    "cur = c.execute(sql13)\n",
    "for row in cur:\n",
    "    print(\"City Category:\",row[0])\n",
    "    print(\"Number of customers:\",row[1])\n",
    "    print(\"Average consumption:\",row[2],\"\\n\")\n",
    "cur.close()\n",
    "conn.close()\n",
    "print('Get comsumption difference among people with different staying time')"
   ]
  },
  {
   "cell_type": "code",
   "execution_count": 43,
   "metadata": {},
   "outputs": [
    {
     "name": "stdout",
     "output_type": "stream",
     "text": [
      "Marital Status: 0\n",
      "Total consumption of males: 6974319960\n",
      "Total consumption of females: 2052462381 \n",
      "\n",
      "Marital Status: 1\n",
      "Total consumption of males: 4754420340\n",
      "Total consumption of females: 1506235545 \n",
      "\n",
      "Get comsumption difference among people with different marrige status\n"
     ]
    }
   ],
   "source": [
    "#comsumption difference among people with different marrige status\n",
    "conn = sqlite3.connect(\"BlackFriday.db\")\n",
    "c = conn.cursor()\n",
    "sql14 = \"SELECT Marital_Status,SUM(CASE WHEN Gender = 'M' THEN Purchase END), SUM(CASE WHEN Gender = 'F' THEN Purchase END) FROM BlackFriday GROUP BY Marital_Status;\"\n",
    "cur = c.execute(sql14)\n",
    "for row in cur:\n",
    "    print(\"Marital Status:\",row[0])\n",
    "    print(\"Total consumption of males:\",row[1])\n",
    "    print(\"Total consumption of females:\",row[2],\"\\n\")\n",
    "cur.close()\n",
    "conn.close()\n",
    "print('Get comsumption difference among people with different marrige status')"
   ]
  },
  {
   "cell_type": "code",
   "execution_count": 44,
   "metadata": {},
   "outputs": [
    {
     "name": "stdout",
     "output_type": "stream",
     "text": [
      "City Category: 0\n",
      "Number of customers: 3417\n",
      "Average consumption: 9265.907618921507 \n",
      "\n",
      "City Category: 1\n",
      "Number of customers: 2474\n",
      "Average consumption: 9261.174574082374 \n",
      "\n",
      "Get comsumption difference among people with different marrige status\n"
     ]
    }
   ],
   "source": [
    "#comsumption difference among people with different Stay_In_Current_City_Years\n",
    "conn = sqlite3.connect(\"BlackFriday.db\")\n",
    "c = conn.cursor()\n",
    "sql15 = \"SELECT Marital_Status,COUNT(DISTINCT User_ID), avg(Purchase) FROM BlackFriday GROUP BY Marital_Status ORDER BY COUNT(DISTINCT User_ID) desc;\"\n",
    "cur = c.execute(sql15)\n",
    "for row in cur:\n",
    "    print(\"City Category:\",row[0])\n",
    "    print(\"Number of customers:\",row[1])\n",
    "    print(\"Average consumption:\",row[2],\"\\n\")\n",
    "cur.close()\n",
    "conn.close()\n",
    "print('Get comsumption difference among people with different marrige status')"
   ]
  },
  {
   "cell_type": "code",
   "execution_count": null,
   "metadata": {},
   "outputs": [],
   "source": []
  }
 ],
 "metadata": {
  "kernelspec": {
   "display_name": "Python 3",
   "language": "python",
   "name": "python3"
  },
  "language_info": {
   "codemirror_mode": {
    "name": "ipython",
    "version": 3
   },
   "file_extension": ".py",
   "mimetype": "text/x-python",
   "name": "python",
   "nbconvert_exporter": "python",
   "pygments_lexer": "ipython3",
   "version": "3.8.3"
  }
 },
 "nbformat": 4,
 "nbformat_minor": 4
}
